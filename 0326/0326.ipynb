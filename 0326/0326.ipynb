{
 "cells": [
  {
   "cell_type": "markdown",
   "metadata": {},
   "source": [
    "# Q1. Lambda & Map"
   ]
  },
  {
   "cell_type": "code",
   "execution_count": 6,
   "metadata": {},
   "outputs": [
    {
     "name": "stdout",
     "output_type": "stream",
     "text": [
      "1,5,4,8\n"
     ]
    },
    {
     "data": {
      "text/plain": [
       "[1, 5, 4, 8]"
      ]
     },
     "execution_count": 6,
     "metadata": {},
     "output_type": "execute_result"
    }
   ],
   "source": [
    "list(map(int,input().split(',')))"
   ]
  },
  {
   "cell_type": "code",
   "execution_count": 2,
   "metadata": {},
   "outputs": [
    {
     "name": "stdout",
     "output_type": "stream",
     "text": [
      "1,2,3,4,5,6,7\n"
     ]
    },
    {
     "data": {
      "text/plain": [
       "[101, 102, 103, 104, 105, 106, 107]"
      ]
     },
     "execution_count": 2,
     "metadata": {},
     "output_type": "execute_result"
    }
   ],
   "source": [
    "list(map(lambda x:x+100,list(map(int,input().split(',')))))"
   ]
  },
  {
   "cell_type": "markdown",
   "metadata": {},
   "source": [
    "# Q2. 裝飾器(Decorator)"
   ]
  },
  {
   "cell_type": "code",
   "execution_count": 9,
   "metadata": {},
   "outputs": [],
   "source": [
    "def multiply_it(func):\n",
    "    def new_function(*args, **kwargs):\n",
    "        result = func(*args, **kwargs) \n",
    "        d=1\n",
    "        for arg in args:\n",
    "            d*=arg\n",
    "        print(\"相乘結果：\",d)\n",
    "        return result \n",
    "    return new_function"
   ]
  },
  {
   "cell_type": "code",
   "execution_count": 10,
   "metadata": {},
   "outputs": [],
   "source": [
    "@multiply_it\n",
    "def add_ints(a,b):\n",
    "    print(\"相加結果：\",a + b)"
   ]
  },
  {
   "cell_type": "code",
   "execution_count": 11,
   "metadata": {},
   "outputs": [
    {
     "name": "stdout",
     "output_type": "stream",
     "text": [
      "相加結果： 12\n",
      "相乘結果： 35\n"
     ]
    }
   ],
   "source": [
    "add_ints(7,5)"
   ]
  },
  {
   "cell_type": "markdown",
   "metadata": {},
   "source": [
    "# Q3.例外處理"
   ]
  },
  {
   "cell_type": "code",
   "execution_count": 6,
   "metadata": {},
   "outputs": [
    {
     "name": "stdout",
     "output_type": "stream",
     "text": [
      "78.87\n",
      "出錯，請重新輸入\n"
     ]
    }
   ],
   "source": [
    "x=input()\n",
    "try:\n",
    "    int(x)\n",
    "except:\n",
    "    print(\"出錯，請重新輸入\") \n"
   ]
  },
  {
   "cell_type": "markdown",
   "metadata": {},
   "source": [
    "# Q4.計算機程式"
   ]
  },
  {
   "cell_type": "code",
   "execution_count": 7,
   "metadata": {},
   "outputs": [
    {
     "name": "stdout",
     "output_type": "stream",
     "text": [
      "請輸入第一個數5\n",
      "請輸入第二個數6\n",
      "請輸入計算功能：+,-,*,/：+\n",
      "11.0\n"
     ]
    }
   ],
   "source": [
    "from source import calculator\n",
    "x1=0\n",
    "x2=0\n",
    "x1=input(\"請輸入第一個數\")\n",
    "x2=input(\"請輸入第二個數\")\n",
    "y=input(\"請輸入計算功能：+,-,*,/：\")\n",
    "if(y==\"+\"):\n",
    "    print(calculator.sum_args(x1,x2)) \n",
    "elif(y==\"-\"):\n",
    "    print(calculator.subtract_args(x1,x2))\n",
    "elif(y==\"*\"):\n",
    "    print(calculator.multiply_args(x1,x2))\n",
    "elif(y==\"/\"):\n",
    "    print(calculator.divide_args(x1,x2))\n",
    "else:\n",
    "    print(\"輸入過程錯誤\")"
   ]
  },
  {
   "cell_type": "code",
   "execution_count": null,
   "metadata": {},
   "outputs": [],
   "source": []
  }
 ],
 "metadata": {
  "kernelspec": {
   "display_name": "Python 3",
   "language": "python",
   "name": "python3"
  },
  "language_info": {
   "codemirror_mode": {
    "name": "ipython",
    "version": 3
   },
   "file_extension": ".py",
   "mimetype": "text/x-python",
   "name": "python",
   "nbconvert_exporter": "python",
   "pygments_lexer": "ipython3",
   "version": "3.6.4"
  }
 },
 "nbformat": 4,
 "nbformat_minor": 2
}
